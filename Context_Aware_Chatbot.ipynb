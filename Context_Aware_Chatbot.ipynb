{
 "cells": [
  {
   "cell_type": "code",
   "execution_count": null,
   "metadata": {
    "execution": {
     "iopub.execute_input": "2025-07-28T10:43:21.025679Z",
     "iopub.status.busy": "2025-07-28T10:43:21.025337Z",
     "iopub.status.idle": "2025-07-28T10:43:21.035988Z",
     "shell.execute_reply": "2025-07-28T10:43:21.034976Z",
     "shell.execute_reply.started": "2025-07-28T10:43:21.025655Z"
    },
    "trusted": true
   },
   "outputs": [],
   "source": [
    "#Import Libraries\n",
    "import os\n",
    "from dotenv import load_dotenv\n",
    "\n",
    "\n",
    "# Load environment variables\n",
    "load_dotenv()\n",
    "os.environ[\"OPENAI_API_KEY\"] = os.getenv(\"OPENAI_API_KEY\")\n"
   ]
  },
  {
   "cell_type": "code",
   "execution_count": null,
   "metadata": {
    "execution": {
     "iopub.execute_input": "2025-07-28T10:43:26.758024Z",
     "iopub.status.busy": "2025-07-28T10:43:26.757651Z",
     "iopub.status.idle": "2025-07-28T10:43:27.089580Z",
     "shell.execute_reply": "2025-07-28T10:43:27.088583Z",
     "shell.execute_reply.started": "2025-07-28T10:43:26.757999Z"
    },
    "trusted": true
   },
   "outputs": [],
   "source": [
    "from langchain.document_loaders import TextLoader\n",
    "from langchain.text_splitter import RecursiveCharacterTextSplitter\n",
    "\n",
    "loader = TextLoader(\"/kaggle/input/dataset/corpus.txt\")  \n",
    "documents = loader.load()\n",
    "\n",
    "# Split into chunks\n",
    "splitter = RecursiveCharacterTextSplitter(chunk_size=500, chunk_overlap=50)\n",
    "docs = splitter.split_documents(documents)\n"
   ]
  },
  {
   "cell_type": "code",
   "execution_count": 9,
   "metadata": {
    "execution": {
     "iopub.execute_input": "2025-07-28T10:50:42.608198Z",
     "iopub.status.busy": "2025-07-28T10:50:42.607799Z",
     "iopub.status.idle": "2025-07-28T10:50:43.304248Z",
     "shell.execute_reply": "2025-07-28T10:50:43.303225Z",
     "shell.execute_reply.started": "2025-07-28T10:50:42.608169Z"
    },
    "trusted": true
   },
   "outputs": [],
   "source": [
    "from langchain.vectorstores import FAISS\n",
    "from langchain_openai import OpenAIEmbeddings\n",
    "\n",
    "embeddings = OpenAIEmbeddings()\n",
    "vectorstore = FAISS.from_documents(docs, embeddings)\n",
    "\n",
    "\n"
   ]
  },
  {
   "cell_type": "code",
   "execution_count": null,
   "metadata": {
    "execution": {
     "iopub.execute_input": "2025-07-28T10:48:00.922346Z",
     "iopub.status.busy": "2025-07-28T10:48:00.921851Z",
     "iopub.status.idle": "2025-07-28T10:48:00.931297Z",
     "shell.execute_reply": "2025-07-28T10:48:00.930325Z",
     "shell.execute_reply.started": "2025-07-28T10:48:00.922315Z"
    },
    "trusted": true
   },
   "outputs": [],
   "source": [
    "from langchain.chains import ConversationalRetrievalChain\n",
    "from langchain_openai import ChatOpenAI\n",
    "from langchain.memory import ConversationBufferMemory\n",
    "\n",
    "llm = ChatOpenAI(temperature=0)\n",
    "\n",
    "memory = ConversationBufferMemory(\n",
    "    memory_key=\"chat_history\",\n",
    "    return_messages=True,\n",
    "    output_key=\"answer\" \n",
    ")\n",
    "\n",
    "qa_chain = ConversationalRetrievalChain.from_llm(\n",
    "    llm=llm,\n",
    "    retriever=vectorstore.as_retriever(search_kwargs={\"k\": 3}),\n",
    "    memory=memory,\n",
    "    return_source_documents=True\n",
    ")\n",
    "\n",
    "\n"
   ]
  },
  {
   "cell_type": "code",
   "execution_count": null,
   "metadata": {
    "execution": {
     "execution_failed": "2025-07-28T10:57:07.576Z",
     "iopub.execute_input": "2025-07-28T10:53:15.365427Z",
     "iopub.status.busy": "2025-07-28T10:53:15.364970Z"
    },
    "trusted": true
   },
   "outputs": [
    {
     "name": "stdout",
     "output_type": "stream",
     "text": [
      "You:  what is Artificial Intelligence\n"
     ]
    },
    {
     "name": "stdout",
     "output_type": "stream",
     "text": [
      "Bot: Artificial intelligence (AI) is a technology that enables machines to perform tasks that typically require human intelligence, such as learning, problem-solving, decision-making, and understanding natural language. It involves the development of algorithms and models that can analyze data, recognize patterns, and make predictions or decisions based on that data. AI is used in various industries to automate processes, improve efficiency, and provide valuable insights.\n"
     ]
    },
    {
     "name": "stdout",
     "output_type": "stream",
     "text": [
      "You:  Quantum Computing\n"
     ]
    },
    {
     "name": "stdout",
     "output_type": "stream",
     "text": [
      "Bot: Quantum computing is an emerging technology that utilizes quantum bits or \"qubits\" to perform complex calculations at unprecedented speeds by leveraging superposition and entanglement. It is expected to solve problems in cryptography, chemistry, and optimization that are currently infeasible for traditional systems. Companies like IBM and Google are actively working towards achieving quantum supremacy, although stable and scalable quantum hardware remains a significant challenge.\n"
     ]
    }
   ],
   "source": [
    "while True:\n",
    "    query = input(\"You: \")\n",
    "    if query.lower() in [\"exit\", \"quit\"]:\n",
    "        break\n",
    "    result = qa_chain.invoke({\"question\": query})\n",
    "    print(\"Bot:\", result['answer'])\n",
    "\n"
   ]
  }
 ],
 "metadata": {
  "kaggle": {
   "accelerator": "none",
   "dataSources": [
    {
     "datasetId": 7958120,
     "sourceId": 12599583,
     "sourceType": "datasetVersion"
    }
   ],
   "dockerImageVersionId": 31089,
   "isGpuEnabled": false,
   "isInternetEnabled": true,
   "language": "python",
   "sourceType": "notebook"
  },
  "kernelspec": {
   "display_name": "Python 3",
   "language": "python",
   "name": "python3"
  },
  "language_info": {
   "codemirror_mode": {
    "name": "ipython",
    "version": 3
   },
   "file_extension": ".py",
   "mimetype": "text/x-python",
   "name": "python",
   "nbconvert_exporter": "python",
   "pygments_lexer": "ipython3",
   "version": "3.11.13"
  }
 },
 "nbformat": 4,
 "nbformat_minor": 4
}
